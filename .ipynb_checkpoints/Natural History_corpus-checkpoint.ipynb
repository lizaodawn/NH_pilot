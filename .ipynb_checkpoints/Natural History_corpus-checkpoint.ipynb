{
 "cells": [
  {
   "cell_type": "code",
   "execution_count": 1,
   "id": "fe019c83",
   "metadata": {},
   "outputs": [],
   "source": [
    "from bs4 import BeautifulSoup\n",
    "import future\n",
    "import pandas as pd\n",
    "import csv\n",
    "import itertools\n",
    "import uuid\n",
    "import requests\n",
    "import re"
   ]
  },
  {
   "cell_type": "markdown",
   "id": "9040d9f6",
   "metadata": {},
   "source": [
    "## A. Scrape entire text"
   ]
  },
  {
   "cell_type": "code",
   "execution_count": 2,
   "id": "d4f401ab",
   "metadata": {},
   "outputs": [],
   "source": [
    "# function for scraping entire text from ToposText with given html\n",
    "\n",
    "def topostext(url):\n",
    "    response = requests.get(url)\n",
    "    if response.status_code != 200:\n",
    "        raise FileNotFoundError(\"Failed to retrieve HTML content: \" + url)\n",
    "    \n",
    "    data = []\n",
    "    soup = BeautifulSoup(response.content, features=\"lxml\")\n",
    "    paragraphs = soup.find_all(\"p\")  # Find all <p> tags instead of filtering by class\n",
    "\n",
    "    for paragraph in paragraphs:\n",
    "        match = re.search(r'§\\s+(\\d+\\.\\d+\\.\\d*)\\s+(.*)$', paragraph.text)\n",
    "        if match:\n",
    "            Chapternparagraph = match.group(1)  # Extract the reference from the pattern\n",
    "            Text = match.group(2)  # Extract the text from the pattern\n",
    "            Reference = paragraph.get(\"id\")  # Indicate book, chapter, paragraph\n",
    "            UUID4 = uuid.uuid4()  # Create a unique ID\n",
    "\n",
    "            data.append({\n",
    "                'UUID4': UUID4,\n",
    "                'Reference': Reference,\n",
    "                'Chapter&Paragraph': Chapternparagraph,     \n",
    "                'Text': Text\n",
    "            })\n",
    "\n",
    "    df = pd.DataFrame(data)\n",
    "    return df"
   ]
  },
  {
   "cell_type": "code",
   "execution_count": 3,
   "id": "605f635a",
   "metadata": {},
   "outputs": [],
   "source": [
    "# link for digitized text of Natural History_book1-11\n",
    "url1 = \"https://topostext.org/work/148\"\n",
    "\n",
    "# link for digitized text of Natural History_book12-37\n",
    "url2 = \"https://topostext.org/work/153\"\n",
    "\n",
    "# construct the dataframe for two parts of the digitized text with the topostext function\n",
    "df1 = topostext(url1)\n",
    "df2 = topostext(url2)"
   ]
  },
  {
   "cell_type": "code",
   "execution_count": 4,
   "id": "3927ffb2",
   "metadata": {},
   "outputs": [
    {
     "data": {
      "text/plain": [
       "(1158, 4)"
      ]
     },
     "execution_count": 4,
     "metadata": {},
     "output_type": "execute_result"
    }
   ],
   "source": [
    "df1.shape"
   ]
  },
  {
   "cell_type": "code",
   "execution_count": 5,
   "id": "4b2e775b",
   "metadata": {},
   "outputs": [
    {
     "data": {
      "text/plain": [
       "(2335, 4)"
      ]
     },
     "execution_count": 5,
     "metadata": {},
     "output_type": "execute_result"
    }
   ],
   "source": [
    "df2.shape"
   ]
  },
  {
   "cell_type": "code",
   "execution_count": 6,
   "id": "3565c9cc",
   "metadata": {},
   "outputs": [
    {
     "data": {
      "text/html": [
       "<div>\n",
       "<style scoped>\n",
       "    .dataframe tbody tr th:only-of-type {\n",
       "        vertical-align: middle;\n",
       "    }\n",
       "\n",
       "    .dataframe tbody tr th {\n",
       "        vertical-align: top;\n",
       "    }\n",
       "\n",
       "    .dataframe thead th {\n",
       "        text-align: right;\n",
       "    }\n",
       "</style>\n",
       "<table border=\"1\" class=\"dataframe\">\n",
       "  <thead>\n",
       "    <tr style=\"text-align: right;\">\n",
       "      <th></th>\n",
       "      <th>UUID4</th>\n",
       "      <th>Reference</th>\n",
       "      <th>Chapter&amp;Paragraph</th>\n",
       "      <th>Text</th>\n",
       "    </tr>\n",
       "  </thead>\n",
       "  <tbody>\n",
       "    <tr>\n",
       "      <th>0</th>\n",
       "      <td>7da79925-2010-47ca-ae38-771e596fc34b</td>\n",
       "      <td>urn:cts:latinLit:phi0978.phi001:1.1.1</td>\n",
       "      <td>1.1.1</td>\n",
       "      <td>PREFACE IN THE FORM OF A LETTER: PLINIUS SECUN...</td>\n",
       "    </tr>\n",
       "    <tr>\n",
       "      <th>1</th>\n",
       "      <td>36136e66-7e14-4827-8a5a-5026de8b6a39</td>\n",
       "      <td>urn:cts:latinLit:phi0978.phi001:1.2.1</td>\n",
       "      <td>1.2.1</td>\n",
       "      <td>But who could judge the value of these composi...</td>\n",
       "    </tr>\n",
       "    <tr>\n",
       "      <th>2</th>\n",
       "      <td>eed75d39-9292-43e8-977c-2e1941108bea</td>\n",
       "      <td>urn:cts:latinLit:phi0978.phi001:1.3.1</td>\n",
       "      <td>1.3.1</td>\n",
       "      <td>But if Lucilius, the originator of critical sn...</td>\n",
       "    </tr>\n",
       "    <tr>\n",
       "      <th>3</th>\n",
       "      <td>2fceb4a6-2e53-4c50-ba13-0ef23f9be723</td>\n",
       "      <td>urn:cts:latinLit:phi0978.phi001:1.4.1</td>\n",
       "      <td>1.4.1</td>\n",
       "      <td>My own presumption has indeed gone further, in...</td>\n",
       "    </tr>\n",
       "    <tr>\n",
       "      <th>4</th>\n",
       "      <td>79b0c382-3821-4bd7-bdf6-c6279155c0ca</td>\n",
       "      <td>urn:cts:latinLit:phi0978.phi001:1.5.1</td>\n",
       "      <td>1.5.1</td>\n",
       "      <td>For my own part I am of opinion that a special...</td>\n",
       "    </tr>\n",
       "  </tbody>\n",
       "</table>\n",
       "</div>"
      ],
      "text/plain": [
       "                                  UUID4  \\\n",
       "0  7da79925-2010-47ca-ae38-771e596fc34b   \n",
       "1  36136e66-7e14-4827-8a5a-5026de8b6a39   \n",
       "2  eed75d39-9292-43e8-977c-2e1941108bea   \n",
       "3  2fceb4a6-2e53-4c50-ba13-0ef23f9be723   \n",
       "4  79b0c382-3821-4bd7-bdf6-c6279155c0ca   \n",
       "\n",
       "                               Reference Chapter&Paragraph  \\\n",
       "0  urn:cts:latinLit:phi0978.phi001:1.1.1             1.1.1   \n",
       "1  urn:cts:latinLit:phi0978.phi001:1.2.1             1.2.1   \n",
       "2  urn:cts:latinLit:phi0978.phi001:1.3.1             1.3.1   \n",
       "3  urn:cts:latinLit:phi0978.phi001:1.4.1             1.4.1   \n",
       "4  urn:cts:latinLit:phi0978.phi001:1.5.1             1.5.1   \n",
       "\n",
       "                                                Text  \n",
       "0  PREFACE IN THE FORM OF A LETTER: PLINIUS SECUN...  \n",
       "1  But who could judge the value of these composi...  \n",
       "2  But if Lucilius, the originator of critical sn...  \n",
       "3  My own presumption has indeed gone further, in...  \n",
       "4  For my own part I am of opinion that a special...  "
      ]
     },
     "execution_count": 6,
     "metadata": {},
     "output_type": "execute_result"
    }
   ],
   "source": [
    "df1.head()"
   ]
  },
  {
   "cell_type": "code",
   "execution_count": 7,
   "id": "f5e1e13d",
   "metadata": {},
   "outputs": [
    {
     "data": {
      "text/plain": [
       "(3493, 4)"
      ]
     },
     "execution_count": 7,
     "metadata": {},
     "output_type": "execute_result"
    }
   ],
   "source": [
    "# combine the two parts of scraped text\n",
    "\n",
    "wholebook = pd.concat([df1, df2], ignore_index=True)\n",
    "wholebook.shape"
   ]
  },
  {
   "cell_type": "code",
   "execution_count": 8,
   "id": "7b90089d",
   "metadata": {},
   "outputs": [],
   "source": [
    "# store the sparsed text into csv file\n",
    "\n",
    "wholebook.to_csv('wholebooktext.csv')"
   ]
  },
  {
   "cell_type": "code",
   "execution_count": 9,
   "id": "4ca07ec7",
   "metadata": {},
   "outputs": [
    {
     "name": "stderr",
     "output_type": "stream",
     "text": [
      "C:\\Users\\dawn\\AppData\\Local\\Temp\\ipykernel_11960\\2434696912.py:4: SettingWithCopyWarning: \n",
      "A value is trying to be set on a copy of a slice from a DataFrame.\n",
      "Try using .loc[row_indexer,col_indexer] = value instead\n",
      "\n",
      "See the caveats in the documentation: https://pandas.pydata.org/pandas-docs/stable/user_guide/indexing.html#returning-a-view-versus-a-copy\n",
      "  wholebook_corpus['Text'] = wholebook_corpus['Text'].str.lower()\n"
     ]
    },
    {
     "data": {
      "text/html": [
       "<div>\n",
       "<style scoped>\n",
       "    .dataframe tbody tr th:only-of-type {\n",
       "        vertical-align: middle;\n",
       "    }\n",
       "\n",
       "    .dataframe tbody tr th {\n",
       "        vertical-align: top;\n",
       "    }\n",
       "\n",
       "    .dataframe thead th {\n",
       "        text-align: right;\n",
       "    }\n",
       "</style>\n",
       "<table border=\"1\" class=\"dataframe\">\n",
       "  <thead>\n",
       "    <tr style=\"text-align: right;\">\n",
       "      <th></th>\n",
       "      <th>Chapter&amp;Paragraph</th>\n",
       "      <th>Text</th>\n",
       "    </tr>\n",
       "  </thead>\n",
       "  <tbody>\n",
       "    <tr>\n",
       "      <th>0</th>\n",
       "      <td>1.1.1</td>\n",
       "      <td>preface in the form of a letter: plinius secun...</td>\n",
       "    </tr>\n",
       "    <tr>\n",
       "      <th>1</th>\n",
       "      <td>1.2.1</td>\n",
       "      <td>but who could judge the value of these composi...</td>\n",
       "    </tr>\n",
       "    <tr>\n",
       "      <th>2</th>\n",
       "      <td>1.3.1</td>\n",
       "      <td>but if lucilius, the originator of critical sn...</td>\n",
       "    </tr>\n",
       "    <tr>\n",
       "      <th>3</th>\n",
       "      <td>1.4.1</td>\n",
       "      <td>my own presumption has indeed gone further, in...</td>\n",
       "    </tr>\n",
       "    <tr>\n",
       "      <th>4</th>\n",
       "      <td>1.5.1</td>\n",
       "      <td>for my own part i am of opinion that a special...</td>\n",
       "    </tr>\n",
       "  </tbody>\n",
       "</table>\n",
       "</div>"
      ],
      "text/plain": [
       "  Chapter&Paragraph                                               Text\n",
       "0             1.1.1  preface in the form of a letter: plinius secun...\n",
       "1             1.2.1  but who could judge the value of these composi...\n",
       "2             1.3.1  but if lucilius, the originator of critical sn...\n",
       "3             1.4.1  my own presumption has indeed gone further, in...\n",
       "4             1.5.1  for my own part i am of opinion that a special..."
      ]
     },
     "execution_count": 9,
     "metadata": {},
     "output_type": "execute_result"
    }
   ],
   "source": [
    "# construct a corpus for the entire text\n",
    "\n",
    "wholebook_corpus = wholebook[['Chapter&Paragraph', 'Text']]\n",
    "wholebook_corpus['Text'] = wholebook_corpus['Text'].str.lower()\n",
    "wholebook_corpus.head()"
   ]
  },
  {
   "cell_type": "code",
   "execution_count": 12,
   "id": "c31392d9",
   "metadata": {},
   "outputs": [
    {
     "name": "stdout",
     "output_type": "stream",
     "text": [
      "Exported 37.78.1_text.txt\n"
     ]
    }
   ],
   "source": [
    "# set the counter to only output the first 5 file names for check\n",
    "\n",
    "for _, row in wholebook_corpus.iterrows():\n",
    "    chapter_paragraph = row['Chapter&Paragraph']\n",
    "    text = row['Text']\n",
    "    filename = f\"{chapter_paragraph}_text.txt\"\n",
    "    \n",
    "    with open(filename, 'w', encoding = 'utf-8') as file:\n",
    "        file.write(text)\n",
    "        \n",
    "# print the last exported filename for check     \n",
    "print(f\"Exported {filename}\")"
   ]
  },
  {
   "cell_type": "markdown",
   "id": "20faaba6",
   "metadata": {},
   "source": [
    "## B. Scrape text with geographical annotation"
   ]
  },
  {
   "cell_type": "code",
   "execution_count": 13,
   "id": "d331d352",
   "metadata": {},
   "outputs": [
    {
     "name": "stdout",
     "output_type": "stream",
     "text": [
      "<a about=\"https://topostext.org/place/380237SAca\" class=\"place\" lat=\"37.992\" long=\"23.707\">Academy</a>\n",
      "<a about=\"https://topostext.org/place/419125LPal\" class=\"place\" lat=\"41.8896\" long=\"12.4884\">Palatine</a>\n",
      "<a about=\"https://topostext.org/place/419125LEsq\" class=\"place\" lat=\"41.895\" long=\"12.496\">Esquiline</a>\n",
      "<a about=\"https://topostext.org/place/419125SCap\" class=\"place\" lat=\"41.8933\" long=\"12.483\">Capitol</a>\n",
      "<a about=\"https://topostext.org/place/419125PRom\" class=\"place\" lat=\"41.891\" long=\"12.486\">Rome</a>\n"
     ]
    }
   ],
   "source": [
    "# check the place names with annotation in the first part of the digitized book\n",
    "\n",
    "response = requests.get(url1)\n",
    "soup = BeautifulSoup(response.content, features=\"lxml\")\n",
    "\n",
    "links = soup.find_all(\"a\", {\"class\": \"place\"})\n",
    "\n",
    "for link in links[:5]:\n",
    "    print(link)"
   ]
  },
  {
   "cell_type": "code",
   "execution_count": 14,
   "id": "46c89465",
   "metadata": {},
   "outputs": [
    {
     "data": {
      "text/plain": [
       "5595"
      ]
     },
     "execution_count": 14,
     "metadata": {},
     "output_type": "execute_result"
    }
   ],
   "source": [
    "# number of class=place detected\n",
    "\n",
    "len(links)"
   ]
  },
  {
   "cell_type": "code",
   "execution_count": 15,
   "id": "12008258",
   "metadata": {
    "scrolled": true
   },
   "outputs": [],
   "source": [
    "# function for text with geographical name annotation scraping\n",
    "\n",
    "def toposgeotext(url):\n",
    "    response = requests.get(url)\n",
    "    if response.status_code != 200:\n",
    "        raise FileNotFoundError(\"Failed to retrieve HTML content: \" + url)\n",
    "\n",
    "    data = []\n",
    "    soup = BeautifulSoup(response.content, features=\"lxml\")\n",
    "    links = soup.find_all(\"a\", {\"class\": \"place\"})\n",
    "\n",
    "    for link in links:\n",
    "        Place_Name = link.contents[0]  # Place name\n",
    "        ToposText_ID = link.get('about')  # ToposText ID\n",
    "        Lat = link.get('lat')\n",
    "        Long = link.get('long')\n",
    "        Parent = link.find_parent(\"p\")\n",
    "        Text = Parent.text  # Extract related text\n",
    "        Reference = Parent.get(\"id\")  # Indicate book, chapter, paragraph\n",
    "\n",
    "        # Separate the information in Text using the regular expression pattern\n",
    "        match = re.search(r'§\\s+(\\d+\\.\\d+\\.\\d*)\\s+(.*)$', Text)\n",
    "        if match:\n",
    "            Chapternparagraph = match.group(1)  # Extract the reference from the pattern\n",
    "            Text = match.group(2)  # Extract the remaining text from the pattern\n",
    "            UUID4 = uuid.uuid4()  # Create a unique ID\n",
    "\n",
    "            data.append({\n",
    "                'UUID4': UUID4,\n",
    "                'ToposText_ID': ToposText_ID,\n",
    "                'Place_Name': Place_Name,\n",
    "                'Reference': Reference,\n",
    "                'Lat': Lat,\n",
    "                'Long': Long,\n",
    "                'Chapter&Paragraph': Chapternparagraph,\n",
    "                'Text': Text\n",
    "            })\n",
    "\n",
    "    df = pd.DataFrame(data)\n",
    "    return df"
   ]
  },
  {
   "cell_type": "code",
   "execution_count": 16,
   "id": "86e83e61",
   "metadata": {},
   "outputs": [],
   "source": [
    "# construct the dataframe for two parts of the digitized text with geographical annotations with the toposgeotext function\n",
    "\n",
    "geodf1 = toposgeotext(url1)\n",
    "geodf2 = toposgeotext(url2)"
   ]
  },
  {
   "cell_type": "code",
   "execution_count": 17,
   "id": "edaf0386",
   "metadata": {},
   "outputs": [
    {
     "data": {
      "text/html": [
       "<div>\n",
       "<style scoped>\n",
       "    .dataframe tbody tr th:only-of-type {\n",
       "        vertical-align: middle;\n",
       "    }\n",
       "\n",
       "    .dataframe tbody tr th {\n",
       "        vertical-align: top;\n",
       "    }\n",
       "\n",
       "    .dataframe thead th {\n",
       "        text-align: right;\n",
       "    }\n",
       "</style>\n",
       "<table border=\"1\" class=\"dataframe\">\n",
       "  <thead>\n",
       "    <tr style=\"text-align: right;\">\n",
       "      <th></th>\n",
       "      <th>UUID4</th>\n",
       "      <th>ToposText_ID</th>\n",
       "      <th>Place_Name</th>\n",
       "      <th>Reference</th>\n",
       "      <th>Lat</th>\n",
       "      <th>Long</th>\n",
       "      <th>Chapter&amp;Paragraph</th>\n",
       "      <th>Text</th>\n",
       "    </tr>\n",
       "  </thead>\n",
       "  <tbody>\n",
       "    <tr>\n",
       "      <th>0</th>\n",
       "      <td>861d5a8c-891d-42c9-b678-e630cf9b90c4</td>\n",
       "      <td>https://topostext.org/place/380237SAca</td>\n",
       "      <td>Academy</td>\n",
       "      <td>urn:cts:latinLit:phi0978.phi001:1.8.1</td>\n",
       "      <td>37.992</td>\n",
       "      <td>23.707</td>\n",
       "      <td>1.8.1</td>\n",
       "      <td>For my own part I frankly confess that my work...</td>\n",
       "    </tr>\n",
       "    <tr>\n",
       "      <th>1</th>\n",
       "      <td>cc90d708-9b8f-4cb1-86ac-28662fa571df</td>\n",
       "      <td>https://topostext.org/place/419125LPal</td>\n",
       "      <td>Palatine</td>\n",
       "      <td>urn:cts:latinLit:phi0978.phi001:2.5.1</td>\n",
       "      <td>41.8896</td>\n",
       "      <td>12.4884</td>\n",
       "      <td>2.5.1</td>\n",
       "      <td>For this reason I deem it a mark of human weak...</td>\n",
       "    </tr>\n",
       "    <tr>\n",
       "      <th>2</th>\n",
       "      <td>2dc0ccda-3629-4d3a-86b2-35b2c48a8377</td>\n",
       "      <td>https://topostext.org/place/419125LEsq</td>\n",
       "      <td>Esquiline</td>\n",
       "      <td>urn:cts:latinLit:phi0978.phi001:2.5.1</td>\n",
       "      <td>41.895</td>\n",
       "      <td>12.496</td>\n",
       "      <td>2.5.1</td>\n",
       "      <td>For this reason I deem it a mark of human weak...</td>\n",
       "    </tr>\n",
       "    <tr>\n",
       "      <th>3</th>\n",
       "      <td>a070a3fb-68a4-48f6-8cf3-fa17b540ee68</td>\n",
       "      <td>https://topostext.org/place/419125SCap</td>\n",
       "      <td>Capitol</td>\n",
       "      <td>urn:cts:latinLit:phi0978.phi001:2.5.1</td>\n",
       "      <td>41.8933</td>\n",
       "      <td>12.483</td>\n",
       "      <td>2.5.1</td>\n",
       "      <td>For this reason I deem it a mark of human weak...</td>\n",
       "    </tr>\n",
       "    <tr>\n",
       "      <th>4</th>\n",
       "      <td>d160b06f-9ffc-4d84-8e70-b0740954171d</td>\n",
       "      <td>https://topostext.org/place/419125PRom</td>\n",
       "      <td>Rome</td>\n",
       "      <td>urn:cts:latinLit:phi0978.phi001:2.6.3</td>\n",
       "      <td>41.891</td>\n",
       "      <td>12.486</td>\n",
       "      <td>2.6.3</td>\n",
       "      <td>Below the sun revolves a very large star named...</td>\n",
       "    </tr>\n",
       "  </tbody>\n",
       "</table>\n",
       "</div>"
      ],
      "text/plain": [
       "                                  UUID4  \\\n",
       "0  861d5a8c-891d-42c9-b678-e630cf9b90c4   \n",
       "1  cc90d708-9b8f-4cb1-86ac-28662fa571df   \n",
       "2  2dc0ccda-3629-4d3a-86b2-35b2c48a8377   \n",
       "3  a070a3fb-68a4-48f6-8cf3-fa17b540ee68   \n",
       "4  d160b06f-9ffc-4d84-8e70-b0740954171d   \n",
       "\n",
       "                             ToposText_ID Place_Name  \\\n",
       "0  https://topostext.org/place/380237SAca    Academy   \n",
       "1  https://topostext.org/place/419125LPal   Palatine   \n",
       "2  https://topostext.org/place/419125LEsq  Esquiline   \n",
       "3  https://topostext.org/place/419125SCap    Capitol   \n",
       "4  https://topostext.org/place/419125PRom       Rome   \n",
       "\n",
       "                               Reference      Lat     Long Chapter&Paragraph  \\\n",
       "0  urn:cts:latinLit:phi0978.phi001:1.8.1   37.992   23.707             1.8.1   \n",
       "1  urn:cts:latinLit:phi0978.phi001:2.5.1  41.8896  12.4884             2.5.1   \n",
       "2  urn:cts:latinLit:phi0978.phi001:2.5.1   41.895   12.496             2.5.1   \n",
       "3  urn:cts:latinLit:phi0978.phi001:2.5.1  41.8933   12.483             2.5.1   \n",
       "4  urn:cts:latinLit:phi0978.phi001:2.6.3   41.891   12.486             2.6.3   \n",
       "\n",
       "                                                Text  \n",
       "0  For my own part I frankly confess that my work...  \n",
       "1  For this reason I deem it a mark of human weak...  \n",
       "2  For this reason I deem it a mark of human weak...  \n",
       "3  For this reason I deem it a mark of human weak...  \n",
       "4  Below the sun revolves a very large star named...  "
      ]
     },
     "execution_count": 17,
     "metadata": {},
     "output_type": "execute_result"
    }
   ],
   "source": [
    "geodf1.head()"
   ]
  },
  {
   "cell_type": "code",
   "execution_count": 18,
   "id": "6cd3cf22",
   "metadata": {},
   "outputs": [
    {
     "data": {
      "text/plain": [
       "(5595, 8)"
      ]
     },
     "execution_count": 18,
     "metadata": {},
     "output_type": "execute_result"
    }
   ],
   "source": [
    "geodf1.shape"
   ]
  },
  {
   "cell_type": "code",
   "execution_count": 19,
   "id": "5f5819b1",
   "metadata": {},
   "outputs": [
    {
     "data": {
      "text/plain": [
       "(3281, 8)"
      ]
     },
     "execution_count": 19,
     "metadata": {},
     "output_type": "execute_result"
    }
   ],
   "source": [
    "geodf2.shape"
   ]
  },
  {
   "cell_type": "code",
   "execution_count": 20,
   "id": "1f86b41e",
   "metadata": {},
   "outputs": [
    {
     "data": {
      "text/html": [
       "<div>\n",
       "<style scoped>\n",
       "    .dataframe tbody tr th:only-of-type {\n",
       "        vertical-align: middle;\n",
       "    }\n",
       "\n",
       "    .dataframe tbody tr th {\n",
       "        vertical-align: top;\n",
       "    }\n",
       "\n",
       "    .dataframe thead th {\n",
       "        text-align: right;\n",
       "    }\n",
       "</style>\n",
       "<table border=\"1\" class=\"dataframe\">\n",
       "  <thead>\n",
       "    <tr style=\"text-align: right;\">\n",
       "      <th></th>\n",
       "      <th>UUID4</th>\n",
       "      <th>ToposText_ID</th>\n",
       "      <th>Place_Name</th>\n",
       "      <th>Reference</th>\n",
       "      <th>Lat</th>\n",
       "      <th>Long</th>\n",
       "      <th>Chapter&amp;Paragraph</th>\n",
       "      <th>Text</th>\n",
       "    </tr>\n",
       "  </thead>\n",
       "  <tbody>\n",
       "    <tr>\n",
       "      <th>0</th>\n",
       "      <td>861d5a8c-891d-42c9-b678-e630cf9b90c4</td>\n",
       "      <td>https://topostext.org/place/380237SAca</td>\n",
       "      <td>Academy</td>\n",
       "      <td>urn:cts:latinLit:phi0978.phi001:1.8.1</td>\n",
       "      <td>37.992</td>\n",
       "      <td>23.707</td>\n",
       "      <td>1.8.1</td>\n",
       "      <td>For my own part I frankly confess that my work...</td>\n",
       "    </tr>\n",
       "    <tr>\n",
       "      <th>1</th>\n",
       "      <td>cc90d708-9b8f-4cb1-86ac-28662fa571df</td>\n",
       "      <td>https://topostext.org/place/419125LPal</td>\n",
       "      <td>Palatine</td>\n",
       "      <td>urn:cts:latinLit:phi0978.phi001:2.5.1</td>\n",
       "      <td>41.8896</td>\n",
       "      <td>12.4884</td>\n",
       "      <td>2.5.1</td>\n",
       "      <td>For this reason I deem it a mark of human weak...</td>\n",
       "    </tr>\n",
       "    <tr>\n",
       "      <th>2</th>\n",
       "      <td>2dc0ccda-3629-4d3a-86b2-35b2c48a8377</td>\n",
       "      <td>https://topostext.org/place/419125LEsq</td>\n",
       "      <td>Esquiline</td>\n",
       "      <td>urn:cts:latinLit:phi0978.phi001:2.5.1</td>\n",
       "      <td>41.895</td>\n",
       "      <td>12.496</td>\n",
       "      <td>2.5.1</td>\n",
       "      <td>For this reason I deem it a mark of human weak...</td>\n",
       "    </tr>\n",
       "    <tr>\n",
       "      <th>3</th>\n",
       "      <td>a070a3fb-68a4-48f6-8cf3-fa17b540ee68</td>\n",
       "      <td>https://topostext.org/place/419125SCap</td>\n",
       "      <td>Capitol</td>\n",
       "      <td>urn:cts:latinLit:phi0978.phi001:2.5.1</td>\n",
       "      <td>41.8933</td>\n",
       "      <td>12.483</td>\n",
       "      <td>2.5.1</td>\n",
       "      <td>For this reason I deem it a mark of human weak...</td>\n",
       "    </tr>\n",
       "    <tr>\n",
       "      <th>4</th>\n",
       "      <td>d160b06f-9ffc-4d84-8e70-b0740954171d</td>\n",
       "      <td>https://topostext.org/place/419125PRom</td>\n",
       "      <td>Rome</td>\n",
       "      <td>urn:cts:latinLit:phi0978.phi001:2.6.3</td>\n",
       "      <td>41.891</td>\n",
       "      <td>12.486</td>\n",
       "      <td>2.6.3</td>\n",
       "      <td>Below the sun revolves a very large star named...</td>\n",
       "    </tr>\n",
       "  </tbody>\n",
       "</table>\n",
       "</div>"
      ],
      "text/plain": [
       "                                  UUID4  \\\n",
       "0  861d5a8c-891d-42c9-b678-e630cf9b90c4   \n",
       "1  cc90d708-9b8f-4cb1-86ac-28662fa571df   \n",
       "2  2dc0ccda-3629-4d3a-86b2-35b2c48a8377   \n",
       "3  a070a3fb-68a4-48f6-8cf3-fa17b540ee68   \n",
       "4  d160b06f-9ffc-4d84-8e70-b0740954171d   \n",
       "\n",
       "                             ToposText_ID Place_Name  \\\n",
       "0  https://topostext.org/place/380237SAca    Academy   \n",
       "1  https://topostext.org/place/419125LPal   Palatine   \n",
       "2  https://topostext.org/place/419125LEsq  Esquiline   \n",
       "3  https://topostext.org/place/419125SCap    Capitol   \n",
       "4  https://topostext.org/place/419125PRom       Rome   \n",
       "\n",
       "                               Reference      Lat     Long Chapter&Paragraph  \\\n",
       "0  urn:cts:latinLit:phi0978.phi001:1.8.1   37.992   23.707             1.8.1   \n",
       "1  urn:cts:latinLit:phi0978.phi001:2.5.1  41.8896  12.4884             2.5.1   \n",
       "2  urn:cts:latinLit:phi0978.phi001:2.5.1   41.895   12.496             2.5.1   \n",
       "3  urn:cts:latinLit:phi0978.phi001:2.5.1  41.8933   12.483             2.5.1   \n",
       "4  urn:cts:latinLit:phi0978.phi001:2.6.3   41.891   12.486             2.6.3   \n",
       "\n",
       "                                                Text  \n",
       "0  For my own part I frankly confess that my work...  \n",
       "1  For this reason I deem it a mark of human weak...  \n",
       "2  For this reason I deem it a mark of human weak...  \n",
       "3  For this reason I deem it a mark of human weak...  \n",
       "4  Below the sun revolves a very large star named...  "
      ]
     },
     "execution_count": 20,
     "metadata": {},
     "output_type": "execute_result"
    }
   ],
   "source": [
    "geotext_whole = pd.concat([geodf1, geodf2], ignore_index=True)\n",
    "geotext_whole.head()"
   ]
  },
  {
   "cell_type": "code",
   "execution_count": 21,
   "id": "e72ec6e1",
   "metadata": {},
   "outputs": [
    {
     "data": {
      "text/plain": [
       "(8876, 8)"
      ]
     },
     "execution_count": 21,
     "metadata": {},
     "output_type": "execute_result"
    }
   ],
   "source": [
    "geotext_whole.shape"
   ]
  },
  {
   "cell_type": "code",
   "execution_count": 22,
   "id": "1a92c314",
   "metadata": {},
   "outputs": [],
   "source": [
    "geotext_whole.to_csv('geotext_whole.csv')"
   ]
  },
  {
   "cell_type": "code",
   "execution_count": 23,
   "id": "54ac6d1c",
   "metadata": {},
   "outputs": [
    {
     "data": {
      "text/html": [
       "<div>\n",
       "<style scoped>\n",
       "    .dataframe tbody tr th:only-of-type {\n",
       "        vertical-align: middle;\n",
       "    }\n",
       "\n",
       "    .dataframe tbody tr th {\n",
       "        vertical-align: top;\n",
       "    }\n",
       "\n",
       "    .dataframe thead th {\n",
       "        text-align: right;\n",
       "    }\n",
       "</style>\n",
       "<table border=\"1\" class=\"dataframe\">\n",
       "  <thead>\n",
       "    <tr style=\"text-align: right;\">\n",
       "      <th></th>\n",
       "      <th>Chapter&amp;Paragraph</th>\n",
       "      <th>Text</th>\n",
       "    </tr>\n",
       "  </thead>\n",
       "  <tbody>\n",
       "    <tr>\n",
       "      <th>0</th>\n",
       "      <td>1.8.1</td>\n",
       "      <td>for my own part i frankly confess that my work...</td>\n",
       "    </tr>\n",
       "    <tr>\n",
       "      <th>1</th>\n",
       "      <td>2.5.1</td>\n",
       "      <td>for this reason i deem it a mark of human weak...</td>\n",
       "    </tr>\n",
       "    <tr>\n",
       "      <th>2</th>\n",
       "      <td>2.6.3</td>\n",
       "      <td>below the sun revolves a very large star named...</td>\n",
       "    </tr>\n",
       "    <tr>\n",
       "      <th>3</th>\n",
       "      <td>2.8.1</td>\n",
       "      <td>this theory leads mortal minds upward to heave...</td>\n",
       "    </tr>\n",
       "    <tr>\n",
       "      <th>4</th>\n",
       "      <td>2.9.1</td>\n",
       "      <td>the first person indeed of roman nationality w...</td>\n",
       "    </tr>\n",
       "  </tbody>\n",
       "</table>\n",
       "</div>"
      ],
      "text/plain": [
       "  Chapter&Paragraph                                               Text\n",
       "0             1.8.1  for my own part i frankly confess that my work...\n",
       "1             2.5.1  for this reason i deem it a mark of human weak...\n",
       "2             2.6.3  below the sun revolves a very large star named...\n",
       "3             2.8.1  this theory leads mortal minds upward to heave...\n",
       "4             2.9.1  the first person indeed of roman nationality w..."
      ]
     },
     "execution_count": 23,
     "metadata": {},
     "output_type": "execute_result"
    }
   ],
   "source": [
    "# construct a corpus for the text with annotated place names\n",
    "\n",
    "geotext_corpus = geotext_whole[['Chapter&Paragraph', 'Text']].drop_duplicates(subset='Text').reset_index(drop=True)\n",
    "geotext_corpus['Text'] = geotext_corpus['Text'].str.lower()\n",
    "geotext_corpus.head()"
   ]
  },
  {
   "cell_type": "code",
   "execution_count": 24,
   "id": "cfd975ab",
   "metadata": {},
   "outputs": [
    {
     "name": "stdout",
     "output_type": "stream",
     "text": [
      "Exported 37.78.1_text.txt\n"
     ]
    }
   ],
   "source": [
    "for _, row in geotext_corpus.iterrows():\n",
    "    chapter_paragraph = row['Chapter&Paragraph']\n",
    "    text = row['Text']\n",
    "    filename = f\"{chapter_paragraph}_text.txt\"\n",
    "    \n",
    "    with open(filename, 'w', encoding = 'utf-8') as file:\n",
    "        file.write(text)\n",
    "        \n",
    "# print the last exported filename for check     \n",
    "print(f\"Exported {filename}\")"
   ]
  },
  {
   "cell_type": "markdown",
   "id": "b562e41f",
   "metadata": {},
   "source": [
    "## C. Filter dataframe and corpus related to India"
   ]
  },
  {
   "cell_type": "code",
   "execution_count": 25,
   "id": "a9a5f46a",
   "metadata": {},
   "outputs": [],
   "source": [
    "# transfer the data type of corresponding coordinates to numbers\n",
    "\n",
    "geotext_whole['Lat'] = geotext_whole['Lat'].astype(float)\n",
    "geotext_whole['Long'] = geotext_whole['Long'].astype(float)"
   ]
  },
  {
   "cell_type": "code",
   "execution_count": 33,
   "id": "ade3798d",
   "metadata": {},
   "outputs": [
    {
     "data": {
      "text/html": [
       "<div>\n",
       "<style scoped>\n",
       "    .dataframe tbody tr th:only-of-type {\n",
       "        vertical-align: middle;\n",
       "    }\n",
       "\n",
       "    .dataframe tbody tr th {\n",
       "        vertical-align: top;\n",
       "    }\n",
       "\n",
       "    .dataframe thead th {\n",
       "        text-align: right;\n",
       "    }\n",
       "</style>\n",
       "<table border=\"1\" class=\"dataframe\">\n",
       "  <thead>\n",
       "    <tr style=\"text-align: right;\">\n",
       "      <th></th>\n",
       "      <th>UUID4</th>\n",
       "      <th>ToposText_ID</th>\n",
       "      <th>Place_Name</th>\n",
       "      <th>Reference</th>\n",
       "      <th>Lat</th>\n",
       "      <th>Long</th>\n",
       "      <th>Chapter&amp;Paragraph</th>\n",
       "      <th>Text</th>\n",
       "    </tr>\n",
       "  </thead>\n",
       "  <tbody>\n",
       "    <tr>\n",
       "      <th>85</th>\n",
       "      <td>d4f97ed8-1279-42f3-894b-0bd40ac66f47</td>\n",
       "      <td>https://topostext.org/place/300740RInd</td>\n",
       "      <td>India</td>\n",
       "      <td>urn:cts:latinLit:phi0978.phi001:2.75.1</td>\n",
       "      <td>30.0000</td>\n",
       "      <td>74.0000</td>\n",
       "      <td>2.75.1</td>\n",
       "      <td>Similarly it is reported that at the town of S...</td>\n",
       "    </tr>\n",
       "    <tr>\n",
       "      <th>92</th>\n",
       "      <td>fd82b062-abdf-43ed-95ba-19c050784a78</td>\n",
       "      <td>https://topostext.org/place/300740RInd</td>\n",
       "      <td>India</td>\n",
       "      <td>urn:cts:latinLit:phi0978.phi001:2.75.1</td>\n",
       "      <td>30.0000</td>\n",
       "      <td>74.0000</td>\n",
       "      <td>2.75.1</td>\n",
       "      <td>Similarly it is reported that at the town of S...</td>\n",
       "    </tr>\n",
       "    <tr>\n",
       "      <th>93</th>\n",
       "      <td>b5f281c4-2cc7-494e-8c4f-e90b27670363</td>\n",
       "      <td>https://topostext.org/place/300740RInd</td>\n",
       "      <td>India</td>\n",
       "      <td>urn:cts:latinLit:phi0978.phi001:2.75.1</td>\n",
       "      <td>30.0000</td>\n",
       "      <td>74.0000</td>\n",
       "      <td>2.75.1</td>\n",
       "      <td>Similarly it is reported that at the town of S...</td>\n",
       "    </tr>\n",
       "    <tr>\n",
       "      <th>343</th>\n",
       "      <td>f53799b0-5303-470a-a92b-f27442ad2010</td>\n",
       "      <td>https://topostext.org/place/300740RInd</td>\n",
       "      <td>India</td>\n",
       "      <td>urn:cts:latinLit:phi0978.phi001:2.112.1</td>\n",
       "      <td>30.0000</td>\n",
       "      <td>74.0000</td>\n",
       "      <td>2.112.1</td>\n",
       "      <td>Our own portion of the earth, which is my subj...</td>\n",
       "    </tr>\n",
       "    <tr>\n",
       "      <th>348</th>\n",
       "      <td>e518b663-ea53-4545-97f3-da99d63495f7</td>\n",
       "      <td>https://topostext.org/place/38898WGan</td>\n",
       "      <td>Ganges</td>\n",
       "      <td>urn:cts:latinLit:phi0978.phi001:2.112.1</td>\n",
       "      <td>23.7818</td>\n",
       "      <td>89.8009</td>\n",
       "      <td>2.112.1</td>\n",
       "      <td>Our own portion of the earth, which is my subj...</td>\n",
       "    </tr>\n",
       "  </tbody>\n",
       "</table>\n",
       "</div>"
      ],
      "text/plain": [
       "                                    UUID4  \\\n",
       "85   d4f97ed8-1279-42f3-894b-0bd40ac66f47   \n",
       "92   fd82b062-abdf-43ed-95ba-19c050784a78   \n",
       "93   b5f281c4-2cc7-494e-8c4f-e90b27670363   \n",
       "343  f53799b0-5303-470a-a92b-f27442ad2010   \n",
       "348  e518b663-ea53-4545-97f3-da99d63495f7   \n",
       "\n",
       "                               ToposText_ID Place_Name  \\\n",
       "85   https://topostext.org/place/300740RInd      India   \n",
       "92   https://topostext.org/place/300740RInd      India   \n",
       "93   https://topostext.org/place/300740RInd      India   \n",
       "343  https://topostext.org/place/300740RInd      India   \n",
       "348   https://topostext.org/place/38898WGan     Ganges   \n",
       "\n",
       "                                   Reference      Lat     Long  \\\n",
       "85    urn:cts:latinLit:phi0978.phi001:2.75.1  30.0000  74.0000   \n",
       "92    urn:cts:latinLit:phi0978.phi001:2.75.1  30.0000  74.0000   \n",
       "93    urn:cts:latinLit:phi0978.phi001:2.75.1  30.0000  74.0000   \n",
       "343  urn:cts:latinLit:phi0978.phi001:2.112.1  30.0000  74.0000   \n",
       "348  urn:cts:latinLit:phi0978.phi001:2.112.1  23.7818  89.8009   \n",
       "\n",
       "    Chapter&Paragraph                                               Text  \n",
       "85             2.75.1  Similarly it is reported that at the town of S...  \n",
       "92             2.75.1  Similarly it is reported that at the town of S...  \n",
       "93             2.75.1  Similarly it is reported that at the town of S...  \n",
       "343           2.112.1  Our own portion of the earth, which is my subj...  \n",
       "348           2.112.1  Our own portion of the earth, which is my subj...  "
      ]
     },
     "execution_count": 33,
     "metadata": {},
     "output_type": "execute_result"
    }
   ],
   "source": [
    "# define the latitude and longitude ranges for India \n",
    "# the coordinates of current territory of India is applied for a rough reference \n",
    "\n",
    "lat_range = (8.4, 37.6)\n",
    "long_range = (68.7, 97.25)\n",
    "\n",
    "# create a boolean mask for filtering\n",
    "mask = (geotext_whole['Lat'].between(*lat_range)) & (geotext_whole['Long'].between(*long_range))\n",
    "\n",
    "# apply the mask to filter the dataframe\n",
    "geotext_india = geotext_whole[mask]\n",
    "\n",
    "geotext_india.head()"
   ]
  },
  {
   "cell_type": "code",
   "execution_count": 34,
   "id": "5323c66e",
   "metadata": {},
   "outputs": [
    {
     "data": {
      "text/plain": [
       "(194, 8)"
      ]
     },
     "execution_count": 34,
     "metadata": {},
     "output_type": "execute_result"
    }
   ],
   "source": [
    "geotext_india.shape"
   ]
  },
  {
   "cell_type": "code",
   "execution_count": 35,
   "id": "82d5bebf",
   "metadata": {},
   "outputs": [],
   "source": [
    "geotext_india.to_csv('geotext_indianregion.csv')"
   ]
  },
  {
   "cell_type": "code",
   "execution_count": 39,
   "id": "2e35f534",
   "metadata": {},
   "outputs": [
    {
     "data": {
      "text/html": [
       "<div>\n",
       "<style scoped>\n",
       "    .dataframe tbody tr th:only-of-type {\n",
       "        vertical-align: middle;\n",
       "    }\n",
       "\n",
       "    .dataframe tbody tr th {\n",
       "        vertical-align: top;\n",
       "    }\n",
       "\n",
       "    .dataframe thead th {\n",
       "        text-align: right;\n",
       "    }\n",
       "</style>\n",
       "<table border=\"1\" class=\"dataframe\">\n",
       "  <thead>\n",
       "    <tr style=\"text-align: right;\">\n",
       "      <th></th>\n",
       "      <th>Chapter&amp;Paragraph</th>\n",
       "      <th>Text</th>\n",
       "    </tr>\n",
       "  </thead>\n",
       "  <tbody>\n",
       "    <tr>\n",
       "      <th>0</th>\n",
       "      <td>2.75.1</td>\n",
       "      <td>similarly it is reported that at the town of s...</td>\n",
       "    </tr>\n",
       "    <tr>\n",
       "      <th>1</th>\n",
       "      <td>2.112.1</td>\n",
       "      <td>our own portion of the earth, which is my subj...</td>\n",
       "    </tr>\n",
       "    <tr>\n",
       "      <th>2</th>\n",
       "      <td>4.17.4</td>\n",
       "      <td>such is macedonia, which was once the mistress...</td>\n",
       "    </tr>\n",
       "    <tr>\n",
       "      <th>3</th>\n",
       "      <td>4.26.2</td>\n",
       "      <td>at this spot begins a well-wooded district, wh...</td>\n",
       "    </tr>\n",
       "    <tr>\n",
       "      <th>4</th>\n",
       "      <td>5.11.1</td>\n",
       "      <td>the cities of egypt: egypt, besides its boast ...</td>\n",
       "    </tr>\n",
       "  </tbody>\n",
       "</table>\n",
       "</div>"
      ],
      "text/plain": [
       "  Chapter&Paragraph                                               Text\n",
       "0            2.75.1  similarly it is reported that at the town of s...\n",
       "1           2.112.1  our own portion of the earth, which is my subj...\n",
       "2            4.17.4  such is macedonia, which was once the mistress...\n",
       "3            4.26.2  at this spot begins a well-wooded district, wh...\n",
       "4            5.11.1  the cities of egypt: egypt, besides its boast ..."
      ]
     },
     "execution_count": 39,
     "metadata": {},
     "output_type": "execute_result"
    }
   ],
   "source": [
    "# construct a corpus for the text mentioned place names in Indian subcontinent\n",
    "\n",
    "india_corpus = geotext_india[['Chapter&Paragraph', 'Text']].drop_duplicates(subset='Text').reset_index(drop=True)\n",
    "india_corpus['Text'] = india_corpus['Text'].str.lower()\n",
    "india_corpus[:5]"
   ]
  },
  {
   "cell_type": "code",
   "execution_count": 37,
   "id": "fdfd05ed",
   "metadata": {},
   "outputs": [
    {
     "name": "stdout",
     "output_type": "stream",
     "text": [
      "Exported 37.77.1_text.txt\n"
     ]
    }
   ],
   "source": [
    "for _, row in india_corpus.iterrows():\n",
    "    chapter_paragraph = row['Chapter&Paragraph']\n",
    "    text = row['Text']\n",
    "    filename = f\"{chapter_paragraph}_text.txt\"\n",
    "    \n",
    "    with open(filename, 'w', encoding = 'utf-8') as file:\n",
    "        file.write(text)\n",
    "\n",
    "# print the last exported filename for check     \n",
    "print(f\"Exported {filename}\")"
   ]
  },
  {
   "cell_type": "code",
   "execution_count": 40,
   "id": "089e3291",
   "metadata": {},
   "outputs": [
    {
     "data": {
      "text/plain": [
       "array(['India', 'Ganges', 'Acesinus', 'Hydaspes', 'Muziris', 'Baragaza'],\n",
       "      dtype=object)"
      ]
     },
     "execution_count": 40,
     "metadata": {},
     "output_type": "execute_result"
    }
   ],
   "source": [
    "# check the distinct place names in the selected region\n",
    "\n",
    "distinct_places = geotext_india['Place_Name'].unique()\n",
    "distinct_places"
   ]
  }
 ],
 "metadata": {
  "kernelspec": {
   "display_name": "Python 3 (ipykernel)",
   "language": "python",
   "name": "python3"
  },
  "language_info": {
   "codemirror_mode": {
    "name": "ipython",
    "version": 3
   },
   "file_extension": ".py",
   "mimetype": "text/x-python",
   "name": "python",
   "nbconvert_exporter": "python",
   "pygments_lexer": "ipython3",
   "version": "3.9.12"
  }
 },
 "nbformat": 4,
 "nbformat_minor": 5
}
